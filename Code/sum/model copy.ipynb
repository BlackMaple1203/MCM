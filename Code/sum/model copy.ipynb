{
 "cells": [
  {
   "cell_type": "markdown",
   "metadata": {},
   "source": [
    "# 导入库"
   ]
  },
  {
   "cell_type": "code",
   "execution_count": 698,
   "metadata": {},
   "outputs": [],
   "source": [
    "import numpy as np\n",
    "import pandas as pd\n",
    "import matplotlib.pyplot as plt\n",
    "\n",
    "import scipy.optimize as opt"
   ]
  },
  {
   "cell_type": "markdown",
   "metadata": {},
   "source": [
    "# 定义函数"
   ]
  },
  {
   "cell_type": "code",
   "execution_count": 699,
   "metadata": {},
   "outputs": [],
   "source": [
    "alpha = 1\n",
    "beta = 20\n",
    "eps = 0.00000000001\n",
    "n0 = 1701018\n",
    "\n",
    "def Economy(n, tex, q):\n",
    "    return 200.55 * n * (1 + tex) + n * q * np.exp(-0.2 * q) \n",
    "\n",
    "def Society(n):\n",
    "    return 5.0109e-09 * n + 4.2\n",
    "\n",
    "def Environment(n):\n",
    "    return 8.15e-6 * n ** 2 - 14.95 * n + 7924000\n",
    "\n",
    "def count_n(tex, max_n):\n",
    "    # n =  1701018 * (-3.5 * tex ** 3 + 3.62 * tex ** 2 - 1.22 * tex + 1.1)\n",
    "    n = n0 * (-5.5 * tex ** 3 + 9.1903 * tex ** 2 - 5.19 * tex + 1.5)\n",
    "    # print(n)\n",
    "    return min(n, max_n)\n",
    "\n",
    "def Objective(x):\n",
    "    max_n = x[0]\n",
    "    tex = x[1]\n",
    "    q = x[2]\n",
    "    n = count_n(tex, max_n)\n",
    "    return -(alpha * Economy(n, tex, q) - beta * Environment(n)) / (Society(n) + eps)"
   ]
  },
  {
   "cell_type": "markdown",
   "metadata": {},
   "source": [
    "# 定义约束范围和初始值"
   ]
  },
  {
   "cell_type": "code",
   "execution_count": 700,
   "metadata": {},
   "outputs": [],
   "source": [
    "bounds = [(1, None), (0, 0.4), (0, 50)]  # n >= 0, 0 <= tex <= 1, Q >= 0\n",
    "x0 = [0, 0, 0]\n",
    "\n",
    "# 不等式限制 count_n >= 1\n",
    "# cons = ({'type': 'ineq', 'fun': lambda x: x[0] - 1})"
   ]
  },
  {
   "cell_type": "markdown",
   "metadata": {},
   "source": [
    "# 求最大值"
   ]
  },
  {
   "cell_type": "code",
   "execution_count": 701,
   "metadata": {},
   "outputs": [],
   "source": [
    "from scipy.optimize import minimize"
   ]
  },
  {
   "cell_type": "code",
   "execution_count": 702,
   "metadata": {},
   "outputs": [],
   "source": [
    "res = minimize(Objective, x0, bounds=bounds)"
   ]
  },
  {
   "cell_type": "code",
   "execution_count": 703,
   "metadata": {},
   "outputs": [
    {
     "name": "stdout",
     "output_type": "stream",
     "text": [
      "最小值点： [2.00565069e+06 1.74986744e-01 5.00000434e+00]\n",
      "最小值： 65539332.297347374\n",
      "此时旅游人数为： 1435249.644733497\n"
     ]
    }
   ],
   "source": [
    "print(\"最小值点：\", res.x)\n",
    "print(\"最小值：\", -res.fun)\n",
    "\n",
    "print(\"此时旅游人数为：\", count_n(res.x[1], res.x[0]))"
   ]
  },
  {
   "cell_type": "markdown",
   "metadata": {},
   "source": [
    "# 测试用例"
   ]
  },
  {
   "cell_type": "code",
   "execution_count": null,
   "metadata": {},
   "outputs": [],
   "source": []
  }
 ],
 "metadata": {
  "kernelspec": {
   "display_name": "data",
   "language": "python",
   "name": "python3"
  },
  "language_info": {
   "codemirror_mode": {
    "name": "ipython",
    "version": 3
   },
   "file_extension": ".py",
   "mimetype": "text/x-python",
   "name": "python",
   "nbconvert_exporter": "python",
   "pygments_lexer": "ipython3",
   "version": "3.12.7"
  }
 },
 "nbformat": 4,
 "nbformat_minor": 2
}
