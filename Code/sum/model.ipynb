{
 "cells": [
  {
   "cell_type": "markdown",
   "metadata": {},
   "source": [
    "# 导入库"
   ]
  },
  {
   "cell_type": "code",
   "execution_count": 201,
   "metadata": {},
   "outputs": [],
   "source": [
    "import numpy as np\n",
    "import pandas as pd\n",
    "import matplotlib.pyplot as plt\n",
    "\n",
    "import scipy.optimize as opt"
   ]
  },
  {
   "cell_type": "markdown",
   "metadata": {},
   "source": [
    "# 定义函数"
   ]
  },
  {
   "cell_type": "code",
   "execution_count": 202,
   "metadata": {},
   "outputs": [],
   "source": [
    "alpha = 1\n",
    "beta = 30\n",
    "\n",
    "def Economy(x):\n",
    "    return 200.55 * x[0] * (-3.5 * x[1] ** 3 + 3.62 * x[1] ** 2 - 1.22 * x[1] + 2.1)  + x[0] * x[2] * np.exp(-0.2 * x[2]) \n",
    "\n",
    "def Society(x):\n",
    "    return 5.0109e-09 * x + 4.2\n",
    "\n",
    "def Environment(x):\n",
    "    return 8.15e-6 * x ** 2 - 14.95 * x + 7924000\n",
    "\n",
    "\n",
    "def Objective(x):\n",
    "    n = x[0]\n",
    "    tex = x[1]\n",
    "    Q = x[2]\n",
    "    return -(alpha * Economy(x) - beta * Environment(n)) * Society(n)"
   ]
  },
  {
   "cell_type": "markdown",
   "metadata": {},
   "source": [
    "# 定义约束范围和初始值"
   ]
  },
  {
   "cell_type": "code",
   "execution_count": 203,
   "metadata": {},
   "outputs": [],
   "source": [
    "bounds = [(0, 1701018), (0.12, 1), (0, 50)]  # n >= 0, 0 <= tex <= 1, Q >= 0\n",
    "x0 = [1701018, 0.12, 20]"
   ]
  },
  {
   "cell_type": "markdown",
   "metadata": {},
   "source": [
    "# 求最大值"
   ]
  },
  {
   "cell_type": "code",
   "execution_count": 204,
   "metadata": {},
   "outputs": [],
   "source": [
    "from scipy.optimize import minimize"
   ]
  },
  {
   "cell_type": "code",
   "execution_count": 205,
   "metadata": {},
   "outputs": [],
   "source": [
    "res = minimize(Objective, x0, bounds=bounds)"
   ]
  },
  {
   "cell_type": "code",
   "execution_count": 206,
   "metadata": {},
   "outputs": [
    {
     "name": "stdout",
     "output_type": "stream",
     "text": [
      "最小值点： [1.70101800e+06 1.20000000e-01 4.99998339e+00]\n",
      "最小值： 2117026517.0506084\n"
     ]
    }
   ],
   "source": [
    "print(\"最小值点：\", res.x)\n",
    "print(\"最小值：\", -res.fun)"
   ]
  },
  {
   "cell_type": "code",
   "execution_count": null,
   "metadata": {},
   "outputs": [],
   "source": []
  },
  {
   "cell_type": "markdown",
   "metadata": {},
   "source": [
    "# 测试用例"
   ]
  },
  {
   "cell_type": "markdown",
   "metadata": {},
   "source": []
  }
 ],
 "metadata": {
  "kernelspec": {
   "display_name": "data",
   "language": "python",
   "name": "python3"
  },
  "language_info": {
   "codemirror_mode": {
    "name": "ipython",
    "version": 3
   },
   "file_extension": ".py",
   "mimetype": "text/x-python",
   "name": "python",
   "nbconvert_exporter": "python",
   "pygments_lexer": "ipython3",
   "version": "3.12.7"
  }
 },
 "nbformat": 4,
 "nbformat_minor": 2
}
