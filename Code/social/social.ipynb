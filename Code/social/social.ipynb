{
 "cells": [
  {
   "cell_type": "markdown",
   "metadata": {},
   "source": [
    "# Social factor"
   ]
  },
  {
   "cell_type": "markdown",
   "metadata": {},
   "source": [
    "导入相关库"
   ]
  },
  {
   "cell_type": "code",
   "execution_count": null,
   "metadata": {},
   "outputs": [],
   "source": [
    "import pandas as pd\n",
    "import numpy as np\n",
    "import matplotlib.pyplot as plt\n",
    "from statsmodels.tsa.statespace.sarimax import SARIMAX\n",
    "from sklearn.metrics import mean_absolute_error"
   ]
  },
  {
   "cell_type": "markdown",
   "metadata": {},
   "source": [
    "准备数据"
   ]
  },
  {
   "cell_type": "code",
   "execution_count": null,
   "metadata": {},
   "outputs": [],
   "source": [
    "# 数据准备\n",
    "data = {\n",
    "    'Year': ['2019-2020', '2022-2023', '2023-2024'],\n",
    "    'summer': [2213000, 2296600, 2648600],\n",
    "    'winter': [323000, 357000, 398000],\n",
    "    'total': [2536000, 2653600, 3046600]\n",
    "}\n",
    "df = pd.DataFrame(data)"
   ]
  },
  {
   "cell_type": "markdown",
   "metadata": {},
   "source": [
    "# 将年份转换为时间序列索引"
   ]
  },
  {
   "cell_type": "code",
   "execution_count": null,
   "metadata": {},
   "outputs": [],
   "source": [
    "df['Year'] = pd.to_datetime(df['Year'].str[:4])  # 只取前4位作为年份\n",
    "df.set_index('Year', inplace=True)\n",
    "\n",
    "# 夏季数据\n",
    "summer_data = df['summer']\n",
    "\n",
    "# 冬季数据\n",
    "winter_data = df['winter']"
   ]
  },
  {
   "cell_type": "markdown",
   "metadata": {},
   "source": [
    "SARIMA模型"
   ]
  },
  {
   "cell_type": "code",
   "execution_count": null,
   "metadata": {},
   "outputs": [],
   "source": [
    "# 定义 SARIMA 模型参数\n",
    "# SARIMA(p, d, q)(P, D, Q, s)\n",
    "# 这里假设季节性周期 s=2（夏季和冬季）\n",
    "order = (1, 1, 1)  # 非季节性部分 (p, d, q)\n",
    "seasonal_order = (1, 1, 1, 2)  # 季节性部分 (P, D, Q, s)\n",
    "\n",
    "# 训练夏季模型\n",
    "summer_model = SARIMAX(summer_data, order=order, seasonal_order=seasonal_order)\n",
    "summer_results = summer_model.fit(disp=False)\n",
    "\n",
    "# 训练冬季模型\n",
    "winter_model = SARIMAX(winter_data, order=order, seasonal_order=seasonal_order)\n",
    "winter_results = winter_model.fit(disp=False)"
   ]
  },
  {
   "cell_type": "code",
   "execution_count": null,
   "metadata": {},
   "outputs": [],
   "source": [
    "# 预测未来 2 年\n",
    "future_years = 2\n",
    "forecast_index = pd.date_range(start=df.index[-1] + pd.DateOffset(years=1), periods=future_years, freq='YS')\n",
    "\n",
    "# 夏季预测\n",
    "summer_forecast = summer_results.get_forecast(steps=future_years)\n",
    "summer_pred = summer_forecast.predicted_mean\n",
    "\n",
    "# 冬季预测\n",
    "winter_forecast = winter_results.get_forecast(steps=future_years)\n",
    "winter_pred = winter_forecast.predicted_mean"
   ]
  },
  {
   "cell_type": "markdown",
   "metadata": {},
   "source": [
    "可视化"
   ]
  },
  {
   "cell_type": "code",
   "execution_count": null,
   "metadata": {},
   "outputs": [],
   "source": [
    "# 打印预测结果\n",
    "print(\"Summer Forecast Results:\")\n",
    "print(summer_pred)\n",
    "\n",
    "print(\"\\nWinter Forecast Results:\")\n",
    "print(winter_pred)\n",
    "\n",
    "# 可视化结果\n",
    "plt.figure(figsize=(12, 6))\n",
    "\n",
    "# 夏季数据\n",
    "plt.subplot(2, 1, 1)\n",
    "plt.plot(summer_data.index, summer_data, label='Actual Summer Visitors', marker='o')\n",
    "plt.plot(forecast_index, summer_pred, label='Predicted Summer Visitors', marker='o', linestyle='--')\n",
    "plt.title('Summer Tourism Forecast')\n",
    "plt.xlabel('Year')\n",
    "plt.ylabel('Number of Visitors')\n",
    "plt.legend()\n",
    "\n",
    "# 冬季数据\n",
    "plt.subplot(2, 1, 2)\n",
    "plt.plot(winter_data.index, winter_data, label='Actual Winter Visitors', marker='o')\n",
    "plt.plot(forecast_index, winter_pred, label='Predicted Winter Visitors', marker='o', linestyle='--')\n",
    "plt.title('Winter Tourism Forecast')\n",
    "plt.xlabel('Year')\n",
    "plt.ylabel('Number of Visitors')\n",
    "plt.legend()\n",
    "\n",
    "plt.tight_layout()\n",
    "plt.show()"
   ]
  }
 ],
 "metadata": {
  "kernelspec": {
   "display_name": "data",
   "language": "python",
   "name": "python3"
  },
  "language_info": {
   "name": "python",
   "version": "3.12.7"
  }
 },
 "nbformat": 4,
 "nbformat_minor": 2
}
