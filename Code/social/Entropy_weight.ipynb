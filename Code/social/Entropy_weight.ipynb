{
 "cells": [
  {
   "cell_type": "code",
   "execution_count": 353,
   "metadata": {},
   "outputs": [],
   "source": [
    "import numpy as np\n",
    "import pandas as pd\n",
    "import matplotlib.pyplot as plt"
   ]
  },
  {
   "cell_type": "code",
   "execution_count": 354,
   "metadata": {},
   "outputs": [],
   "source": [
    "with open('b_td_pred.csv', 'rb') as f:\n",
    "    data = pd.read_csv(f)\n",
    "    \n",
    "seleted_data = data\n",
    "    \n",
    "seleted_data = data.drop(columns=['Year', 'Tourism_Numbers', 'Local'])"
   ]
  },
  {
   "cell_type": "code",
   "execution_count": 355,
   "metadata": {},
   "outputs": [],
   "source": [
    "# 2. 数据归一化\n",
    "def normalize_min_max(df):\n",
    "    return (df - df.min()) / (df.max() - df.min())\n",
    "\n",
    "def normalize_mean_std_201(df):\n",
    "    return (((df - df.mean()) / df.std()) + 1) / 2\n",
    "\n",
    "def normalize_mean_std(df):\n",
    "    return (df - df.mean()) / df.std()\n",
    "\n",
    "normalized_data = normalize_mean_std(seleted_data)"
   ]
  },
  {
   "cell_type": "code",
   "execution_count": 356,
   "metadata": {},
   "outputs": [
    {
     "name": "stderr",
     "output_type": "stream",
     "text": [
      "c:\\Users\\19912\\.conda\\envs\\data\\Lib\\site-packages\\pandas\\core\\internals\\blocks.py:393: RuntimeWarning: invalid value encountered in log\n",
      "  result = func(self.values, **kwargs)\n"
     ]
    }
   ],
   "source": [
    "# 3. 计算熵值\n",
    "def calculate_entropy(df):\n",
    "    # 转化为概率矩阵\n",
    "    P = df / df.sum(axis=0)\n",
    "    \n",
    "    # 计算信息熵\n",
    "    k = 1 / np.log(len(df))\n",
    "    entropy = -k * (P * np.log(P + 1e-12)).sum(axis=0)\n",
    "    return entropy\n",
    "\n",
    "entropy = calculate_entropy(normalized_data)"
   ]
  },
  {
   "cell_type": "code",
   "execution_count": 357,
   "metadata": {},
   "outputs": [],
   "source": [
    "# 4. 根据熵值计算权重\n",
    "redundancy = 1 - entropy\n",
    "weights = redundancy / redundancy.sum()"
   ]
  },
  {
   "cell_type": "code",
   "execution_count": 358,
   "metadata": {},
   "outputs": [
    {
     "name": "stdout",
     "output_type": "stream",
     "text": [
      "stsfy                                     0.026853\n",
      "Crowding_at_Mendenhall_Glacier            0.026832\n",
      "Crowding_on_sidewalks_downtown            0.002355\n",
      "Vehicle_congestion_downtown               0.053789\n",
      "Flightseeing_noise                        0.023753\n",
      "Air_emissions_from_cruise_ships           0.128605\n",
      "Vehicle_congestion_outside_of_downtown    0.119124\n",
      "Whale_watching_boat_traffic_and_wakes     0.020002\n",
      "Crowding_on_trails                        0.031987\n",
      "Street_Services                           0.061916\n",
      "Wastewater                                0.035405\n",
      "Public_Transit                            0.011092\n",
      "Parks_and_Recreation                      0.166201\n",
      "Docks                                     0.022434\n",
      "Ports                                     0.111619\n",
      "JNU_Composite                             0.007995\n",
      "Grocery_Items                             0.014556\n",
      "JNU_Housing                               0.031455\n",
      "Utilities                                 0.002477\n",
      "Transportation                            0.031951\n",
      "Healthcare                                0.033840\n",
      "Misc._Good_and_Services                   0.035760\n",
      "dtype: float64\n",
      "------------------------------\n",
      "weights.sum() == 1 ?\n",
      "True\n"
     ]
    }
   ],
   "source": [
    "# 输出权重\n",
    "print(weights)\n",
    "\n",
    "print('-'*30)\n",
    "print(\"weights.sum() == 1 ?\")\n",
    "\n",
    "print(weights.sum() == 1)"
   ]
  },
  {
   "cell_type": "code",
   "execution_count": 359,
   "metadata": {},
   "outputs": [],
   "source": [
    "# 微调权重\n",
    "# weights[\"Vehicle_congestion_downtown\"] += 0.03\n",
    "# weights[\"Flightseeing_noise\"] -= 0.03"
   ]
  },
  {
   "cell_type": "code",
   "execution_count": 360,
   "metadata": {},
   "outputs": [],
   "source": [
    "# 保存权重\n",
    "weights.to_csv('weights.csv', index=False)"
   ]
  },
  {
   "cell_type": "markdown",
   "metadata": {},
   "source": [
    "计算总表达式"
   ]
  },
  {
   "cell_type": "code",
   "execution_count": 361,
   "metadata": {},
   "outputs": [],
   "source": [
    "import pickle as pkl\n",
    "# weights = pd.read_csv('weights.csv')\n",
    "\n",
    "with open('b_norm_lr_models.pkl', 'rb') as f:\n",
    "    models = pkl.load(f)"
   ]
  },
  {
   "cell_type": "code",
   "execution_count": 362,
   "metadata": {},
   "outputs": [
    {
     "name": "stdout",
     "output_type": "stream",
     "text": [
      "coef_n: 5.747708293852087e-08\n",
      "coef_local: -0.0019045713601934997\n",
      "intercept: 61.48360865044667\n"
     ]
    }
   ],
   "source": [
    "# 总表达式\n",
    "coef_n = coef_local = intercept = 0\n",
    "\n",
    "for key in models:\n",
    "    if key == 'Year' or key == 'Tourism_Numbers' or key == 'Local':\n",
    "        continue\n",
    "    # print(key)\n",
    "    model = models[key]\n",
    "    # print(model.coef_)\n",
    "    coef_n += model.coef_[0][0] * weights[key]\n",
    "    coef_local += model.coef_[0][1] * weights[key]\n",
    "    intercept += model.intercept_[0] * weights[key]\n",
    "    \n",
    "print('coef_n:', coef_n)\n",
    "print('coef_local:', coef_local) \n",
    "print('intercept:', intercept)"
   ]
  },
  {
   "cell_type": "code",
   "execution_count": 363,
   "metadata": {},
   "outputs": [
    {
     "name": "stdout",
     "output_type": "stream",
     "text": [
      "Score = 5.747708293852087e-08 * Tourism_Numbers + -0.0019045713601934997 * Local + 61.48360865044667\n"
     ]
    }
   ],
   "source": [
    "# 总表达式\n",
    "print('Score =', coef_n, '* Tourism_Numbers +', coef_local, '* Local +', intercept)"
   ]
  },
  {
   "cell_type": "markdown",
   "metadata": {},
   "source": [
    "计算所有年份的得分 "
   ]
  },
  {
   "cell_type": "code",
   "execution_count": 364,
   "metadata": {},
   "outputs": [
    {
     "name": "stdout",
     "output_type": "stream",
     "text": [
      "    Year     Score\n",
      "0   2014  0.640275\n",
      "1   2015  0.451082\n",
      "2   2016  0.643379\n",
      "3   2017  1.408483\n",
      "4   2018  1.603481\n",
      "5   2019  1.612390\n",
      "6   2020  1.228813\n",
      "7   2021  1.607064\n",
      "8   2022  2.175772\n",
      "9   2023  2.395140\n",
      "10  2024  2.968295\n",
      "11  2025  3.198864\n",
      "12  2026  3.916312\n",
      "13  2027  4.133823\n",
      "14  2028  4.652120\n"
     ]
    },
    {
     "data": {
      "text/plain": [
       "[<matplotlib.lines.Line2D at 0x262e26d94c0>]"
      ]
     },
     "execution_count": 364,
     "metadata": {},
     "output_type": "execute_result"
    },
    {
     "data": {
      "image/png": "[encoded data removed]",
      "text/plain": [
       "<Figure size 640x480 with 1 Axes>"
      ]
     },
     "metadata": {},
     "output_type": "display_data"
    }
   ],
   "source": [
    "# 计算每一年的得分\n",
    "# scores = normalized_data.dot(weights)\n",
    "scores = coef_n * data['Tourism_Numbers'] + coef_local * data['Local'] + intercept\n",
    "\n",
    "# 将得分添加到原始数据中\n",
    "data['Score'] = scores + 1\n",
    "\n",
    "# 输出包含得分的数据\n",
    "print(data[['Year', 'Score']])\n",
    "\n",
    "plt.plot(data['Year'], data['Score'])"
   ]
  },
  {
   "cell_type": "code",
   "execution_count": null,
   "metadata": {},
   "outputs": [],
   "source": []
  }
 ],
 "metadata": {
  "kernelspec": {
   "display_name": "data",
   "language": "python",
   "name": "python3"
  },
  "language_info": {
   "codemirror_mode": {
    "name": "ipython",
    "version": 3
   },
   "file_extension": ".py",
   "mimetype": "text/x-python",
   "name": "python",
   "nbconvert_exporter": "python",
   "pygments_lexer": "ipython3",
   "version": "3.12.7"
  }
 },
 "nbformat": 4,
 "nbformat_minor": 2
}
