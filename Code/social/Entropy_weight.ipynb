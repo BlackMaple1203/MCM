{
 "cells": [
  {
   "cell_type": "code",
   "execution_count": 1,
   "metadata": {},
   "outputs": [],
   "source": [
    "import numpy as np\n",
    "import pandas as pd\n",
    "import matplotlib.pyplot as plt"
   ]
  },
  {
   "cell_type": "code",
   "execution_count": 3,
   "metadata": {},
   "outputs": [],
   "source": [
    "with open('b_td_pred.csv', 'rb') as f:\n",
    "    data = pd.read_csv(f)\n",
    "    \n",
    "seleted_data = data\n",
    "    \n",
    "seleted_data = data.drop(columns=['Year', 'Tourism_Numbers', 'Local', 'JNU_Composite', \"Misc._Good_and_Services\", 'Healthcare'])"
   ]
  },
  {
   "cell_type": "code",
   "execution_count": 4,
   "metadata": {},
   "outputs": [],
   "source": [
    "# 2. 数据归一化\n",
    "def normalize_min_max(df):\n",
    "    return (df - df.min()) / (df.max() - df.min())\n",
    "\n",
    "def normalize_mean_std_201(df):\n",
    "    return (((df - df.mean()) / df.std()) + 1) / 2\n",
    "\n",
    "def normalize_mean_std(df):\n",
    "    return (df - df.mean()) / df.std()\n",
    "\n",
    "normalized_data = normalize_mean_std(seleted_data)"
   ]
  },
  {
   "cell_type": "code",
   "execution_count": 5,
   "metadata": {},
   "outputs": [
    {
     "name": "stderr",
     "output_type": "stream",
     "text": [
      "c:\\Users\\19912\\.conda\\envs\\data\\Lib\\site-packages\\pandas\\core\\internals\\blocks.py:393: RuntimeWarning: invalid value encountered in log\n",
      "  result = func(self.values, **kwargs)\n"
     ]
    }
   ],
   "source": [
    "# 3. 计算熵值\n",
    "def calculate_entropy(df):\n",
    "    # 转化为概率矩阵\n",
    "    P = df / df.sum(axis=0)\n",
    "    \n",
    "    # 计算信息熵\n",
    "    k = 1 / np.log(len(df))\n",
    "    entropy = -k * (P * np.log(P + 1e-12)).sum(axis=0)\n",
    "    return entropy\n",
    "\n",
    "entropy = calculate_entropy(normalized_data)"
   ]
  },
  {
   "cell_type": "code",
   "execution_count": 6,
   "metadata": {},
   "outputs": [],
   "source": [
    "# 4. 根据熵值计算权重\n",
    "redundancy = 1 - entropy\n",
    "weights = redundancy / redundancy.sum()"
   ]
  },
  {
   "cell_type": "code",
   "execution_count": 8,
   "metadata": {},
   "outputs": [
    {
     "name": "stdout",
     "output_type": "stream",
     "text": [
      "stsfy                                     0.029112\n",
      "Crowding_at_Mendenhall_Glacier            0.029089\n",
      "Crowding_on_sidewalks_downtown            0.002553\n",
      "Vehicle_congestion_downtown               0.058313\n",
      "Flightseeing_noise                        0.025751\n",
      "Air_emissions_from_cruise_ships           0.139424\n",
      "Vehicle_congestion_outside_of_downtown    0.129145\n",
      "Whale_watching_boat_traffic_and_wakes     0.021685\n",
      "Crowding_on_trails                        0.034678\n",
      "Street_Services                           0.067125\n",
      "Wastewater                                0.038384\n",
      "Public_Transit                            0.012025\n",
      "Parks_and_Recreation                      0.180182\n",
      "Docks                                     0.024321\n",
      "Ports                                     0.121009\n",
      "Grocery_Items                             0.015780\n",
      "JNU_Housing                               0.034101\n",
      "Utilities                                 0.002685\n",
      "Transportation                            0.034639\n",
      "dtype: float64\n",
      "------------------------------\n",
      "weights.sum() == 1 ?\n",
      "0.9999999999999999\n"
     ]
    }
   ],
   "source": [
    "# 输出权重\n",
    "print(weights)\n",
    "\n",
    "print('-'*30)\n",
    "print(\"weights.sum() == 1 ?\")\n",
    "\n",
    "print(weights.sum())"
   ]
  },
  {
   "cell_type": "code",
   "execution_count": 9,
   "metadata": {},
   "outputs": [],
   "source": [
    "# 微调权重\n",
    "# weights[\"Vehicle_congestion_downtown\"] += 0.03\n",
    "# weights[\"Flightseeing_noise\"] -= 0.03"
   ]
  },
  {
   "cell_type": "code",
   "execution_count": 10,
   "metadata": {},
   "outputs": [],
   "source": [
    "# 保存权重\n",
    "weights.to_csv('weights.csv', index=False)"
   ]
  },
  {
   "cell_type": "markdown",
   "metadata": {},
   "source": [
    "计算总表达式"
   ]
  },
  {
   "cell_type": "code",
   "execution_count": 16,
   "metadata": {},
   "outputs": [],
   "source": [
    "import pickle as pkl\n",
    "# weights = pd.read_csv('weights.csv')\n",
    "\n",
    "with open('b_norm_lr_models.pkl', 'rb') as f:\n",
    "    models = pkl.load(f)"
   ]
  },
  {
   "cell_type": "code",
   "execution_count": 17,
   "metadata": {},
   "outputs": [
    {
     "name": "stdout",
     "output_type": "stream",
     "text": [
      "coef_n: 5.010963019362408e-09\n",
      "coef_local: -0.002168074360987951\n",
      "intercept: 69.93004632217392\n"
     ]
    }
   ],
   "source": [
    "# 总表达式\n",
    "coef_n = coef_local = intercept = 0\n",
    "\n",
    "for key in models:\n",
    "    if key == 'Year' or key == 'Tourism_Numbers' or key == 'Local' or key == 'JNU_Composite' or key == 'Misc._Good_and_Services' or key == 'Healthcare':\n",
    "        continue\n",
    "    # print(key)\n",
    "    model = models[key]\n",
    "    # print(model.coef_)\n",
    "    coef_n += model.coef_[0][0] * weights[key]\n",
    "    coef_local += model.coef_[0][1] * weights[key]\n",
    "    intercept += model.intercept_[0] * weights[key]\n",
    "    \n",
    "print('coef_n:', coef_n)\n",
    "print('coef_local:', coef_local) \n",
    "print('intercept:', intercept)"
   ]
  },
  {
   "cell_type": "code",
   "execution_count": 18,
   "metadata": {},
   "outputs": [
    {
     "name": "stdout",
     "output_type": "stream",
     "text": [
      "Score = 5.010963019362408e-09 * Tourism_Numbers + -0.002168074360987951 * Local + 69.93004632217392\n"
     ]
    }
   ],
   "source": [
    "# 总表达式\n",
    "print('Score =', coef_n, '* Tourism_Numbers +', coef_local, '* Local +', intercept)"
   ]
  },
  {
   "cell_type": "markdown",
   "metadata": {},
   "source": [
    "计算所有年份的得分 "
   ]
  },
  {
   "cell_type": "code",
   "execution_count": 19,
   "metadata": {},
   "outputs": [
    {
     "name": "stdout",
     "output_type": "stream",
     "text": [
      "    Year     Score\n",
      "0   2014  0.472445\n",
      "1   2015  0.255748\n",
      "2   2016  0.472716\n",
      "3   2017  1.340231\n",
      "4   2018  1.557434\n",
      "5   2019  1.558211\n",
      "6   2020  1.124364\n",
      "7   2021  1.557747\n",
      "8   2022  2.207937\n",
      "9   2023  2.427265\n",
      "10  2024  3.077843\n",
      "11  2025  3.335915\n",
      "12  2026  4.148524\n",
      "13  2027  4.392051\n",
      "14  2028  4.978028\n"
     ]
    },
    {
     "data": {
      "text/plain": [
       "[<matplotlib.lines.Line2D at 0x244d2778f20>]"
      ]
     },
     "execution_count": 19,
     "metadata": {},
     "output_type": "execute_result"
    },
    {
     "data": {
      "image/png": "[encoded data removed]",
      "text/plain": [
       "<Figure size 640x480 with 1 Axes>"
      ]
     },
     "metadata": {},
     "output_type": "display_data"
    }
   ],
   "source": [
    "# 计算每一年的得分\n",
    "# scores = normalized_data.dot(weights)\n",
    "scores = coef_n * data['Tourism_Numbers'] + coef_local * data['Local'] + intercept\n",
    "\n",
    "# 将得分添加到原始数据中\n",
    "data['Score'] = scores + 1\n",
    "\n",
    "# 输出包含得分的数据\n",
    "print(data[['Year', 'Score']])\n",
    "\n",
    "plt.plot(data['Year'], data['Score'])"
   ]
  }
 ],
 "metadata": {
  "kernelspec": {
   "display_name": "data",
   "language": "python",
   "name": "python3"
  },
  "language_info": {
   "codemirror_mode": {
    "name": "ipython",
    "version": 3
   },
   "file_extension": ".py",
   "mimetype": "text/x-python",
   "name": "python",
   "nbconvert_exporter": "python",
   "pygments_lexer": "ipython3",
   "version": "3.12.7"
  }
 },
 "nbformat": 4,
 "nbformat_minor": 2
}
