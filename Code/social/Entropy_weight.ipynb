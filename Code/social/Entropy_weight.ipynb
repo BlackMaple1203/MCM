{
 "cells": [
  {
   "cell_type": "code",
   "execution_count": 35,
   "metadata": {},
   "outputs": [],
   "source": [
    "import numpy as np\n",
    "import pandas as pd\n",
    "import matplotlib.pyplot as plt"
   ]
  },
  {
   "cell_type": "code",
   "execution_count": 36,
   "metadata": {},
   "outputs": [],
   "source": [
    "with open('td_pred.csv', 'rb') as f:\n",
    "    data = pd.read_csv(f)\n",
    "    \n",
    "seleted_data = data.drop(columns=['Year', 'Tourism_Numbers', 'Street_Services', 'Wastewater', 'Public_Transit', 'Parks_and_Recreation', 'Docks', 'Ports'])"
   ]
  },
  {
   "cell_type": "code",
   "execution_count": 37,
   "metadata": {},
   "outputs": [],
   "source": [
    "# 2. 数据归一化\n",
    "def normalize(df):\n",
    "    return (df - df.min()) / (df.max() - df.min())\n",
    "\n",
    "normalized_data = normalize(seleted_data)\n"
   ]
  },
  {
   "cell_type": "code",
   "execution_count": 38,
   "metadata": {},
   "outputs": [],
   "source": [
    "# 3. 计算熵值\n",
    "def calculate_entropy(df):\n",
    "    # 转化为概率矩阵\n",
    "    P = df / df.sum(axis=0)\n",
    "    \n",
    "    # 计算信息熵\n",
    "    k = 1 / np.log(len(df))\n",
    "    entropy = -k * (P * np.log(P + 1e-12)).sum(axis=0)\n",
    "    return entropy\n",
    "\n",
    "entropy = calculate_entropy(normalized_data)"
   ]
  },
  {
   "cell_type": "code",
   "execution_count": 39,
   "metadata": {},
   "outputs": [],
   "source": [
    "# 4. 根据熵值计算权重\n",
    "redundancy = 1 - entropy\n",
    "weights = redundancy / redundancy.sum()"
   ]
  },
  {
   "cell_type": "code",
   "execution_count": 40,
   "metadata": {},
   "outputs": [
    {
     "name": "stdout",
     "output_type": "stream",
     "text": [
      "stsfy                                     0.048463\n",
      "Crowding_at_Mendenhall_Glacier            0.073418\n",
      "Crowding_on_sidewalks_downtown            0.073418\n",
      "Vehicle_congestion_downtown               0.073418\n",
      "Flightseeing_noise                        0.048463\n",
      "Air_emissions_from_cruise_ships           0.048463\n",
      "Vehicle_congestion_outside_of_downtown    0.073418\n",
      "Whale_watching_boat_traffic_and_wakes     0.073418\n",
      "Crowding_on_trails                        0.073418\n",
      "JNU_Composite                             0.048463\n",
      "Grocery_Items                             0.048463\n",
      "JNU_Housing                               0.048463\n",
      "Utilities                                 0.073418\n",
      "Transportation                            0.073418\n",
      "Healthcare                                0.048463\n",
      "Misc._Good_and_Services                   0.073418\n",
      "dtype: float64\n",
      "------------------------------\n",
      "weights.sum() == 1 ?\n",
      "True\n"
     ]
    }
   ],
   "source": [
    "# 输出权重\n",
    "print(weights)\n",
    "\n",
    "print('-'*30)\n",
    "print(\"weights.sum() == 1 ?\")\n",
    "\n",
    "print(weights.sum() == 1)"
   ]
  },
  {
   "cell_type": "code",
   "execution_count": 41,
   "metadata": {},
   "outputs": [],
   "source": [
    "# 保存权重\n",
    "weights.to_csv('weights.csv', index=False)"
   ]
  },
  {
   "cell_type": "markdown",
   "metadata": {},
   "source": [
    "计算所有年份的得分  "
   ]
  },
  {
   "cell_type": "code",
   "execution_count": 42,
   "metadata": {},
   "outputs": [
    {
     "name": "stdout",
     "output_type": "stream",
     "text": [
      "    Year     Score\n",
      "0   2014  0.339242\n",
      "1   2015  0.346212\n",
      "2   2016  0.356351\n",
      "3   2017  0.374410\n",
      "4   2018  0.399439\n",
      "5   2019  0.448546\n",
      "6   2020  0.433867\n",
      "7   2021  0.419187\n",
      "8   2022  0.404508\n",
      "9   2023  0.563870\n",
      "10  2024  0.573697\n",
      "11  2025  0.596749\n",
      "12  2026  0.618250\n",
      "13  2027  0.639631\n",
      "14  2028  0.660758\n"
     ]
    },
    {
     "data": {
      "text/plain": [
       "[<matplotlib.lines.Line2D at 0x2bdac4904a0>]"
      ]
     },
     "execution_count": 42,
     "metadata": {},
     "output_type": "execute_result"
    },
    {
     "data": {
      "image/png": "[encoded data removed]",
      "text/plain": [
       "<Figure size 640x480 with 1 Axes>"
      ]
     },
     "metadata": {},
     "output_type": "display_data"
    }
   ],
   "source": [
    "# 计算每一年的得分\n",
    "scores = normalized_data.dot(weights)\n",
    "\n",
    "# 将得分添加到原始数据中\n",
    "data['Score'] = scores\n",
    "\n",
    "# 输出包含得分的数据\n",
    "print(data[['Year', 'Score']])\n",
    "\n",
    "plt.plot(data['Year'], data['Score'])"
   ]
  }
 ],
 "metadata": {
  "kernelspec": {
   "display_name": "data",
   "language": "python",
   "name": "python3"
  },
  "language_info": {
   "codemirror_mode": {
    "name": "ipython",
    "version": 3
   },
   "file_extension": ".py",
   "mimetype": "text/x-python",
   "name": "python",
   "nbconvert_exporter": "python",
   "pygments_lexer": "ipython3",
   "version": "3.12.7"
  }
 },
 "nbformat": 4,
 "nbformat_minor": 2
}
