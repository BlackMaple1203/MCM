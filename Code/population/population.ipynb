{
 "cells": [
  {
   "cell_type": "code",
   "execution_count": 1,
   "id": "import-libraries",
   "metadata": {},
   "outputs": [],
   "source": [
    "import pandas as pd\n",
    "import numpy as np\n",
    "import matplotlib.pyplot as plt\n",
    "from statsmodels.tsa.statespace.sarimax import SARIMAX"
   ]
  },
  {
   "cell_type": "markdown",
   "id": "data-preparation",
   "metadata": {},
   "source": [
    "### 朱诺市每年旅游人数数据"
   ]
  },
  {
   "cell_type": "code",
   "execution_count": 2,
   "id": "load-data",
   "metadata": {},
   "outputs": [],
   "source": [
    "data = {\n",
    "    'Year': [2014, 2015, 2016, 2017, 2018, 2019, 2020, 2021, 2022, 2023],\n",
    "    'Tourist_Count': [961000, 983000, 1015000, 1072000, 1151000, 1306000, 0, 117000, 1167000, 1670000]\n",
    "}\n",
    "\n",
    "df = pd.DataFrame(data)\n",
    "df.set_index('Year', inplace=True)"
   ]
  },
  {
   "cell_type": "markdown",
   "id": "handle-outliers",
   "metadata": {},
   "source": [
    "### 替换异常值"
   ]
  },
  {
   "cell_type": "code",
   "execution_count": 3,
   "id": "replace-outliers",
   "metadata": {},
   "outputs": [
    {
     "name": "stderr",
     "output_type": "stream",
     "text": [
      "C:\\Users\\19912\\AppData\\Local\\Temp\\ipykernel_38060\\3095375633.py:1: FutureWarning: ChainedAssignmentError: behaviour will change in pandas 3.0!\n",
      "You are setting values through chained assignment. Currently this works in certain cases, but when using Copy-on-Write (which will become the default behaviour in pandas 3.0) this will never work to update the original DataFrame or Series, because the intermediate object on which we are setting values will behave as a copy.\n",
      "A typical example is when you are setting values in a column of a DataFrame, like:\n",
      "\n",
      "df[\"col\"][row_indexer] = value\n",
      "\n",
      "Use `df.loc[row_indexer, \"col\"] = values` instead, to perform the assignment in a single step and ensure this keeps updating the original `df`.\n",
      "\n",
      "See the caveats in the documentation: https://pandas.pydata.org/pandas-docs/stable/user_guide/indexing.html#returning-a-view-versus-a-copy\n",
      "\n",
      "  df['Tourist_Count'].loc[2020] = np.nan\n",
      "C:\\Users\\19912\\AppData\\Local\\Temp\\ipykernel_38060\\3095375633.py:2: FutureWarning: ChainedAssignmentError: behaviour will change in pandas 3.0!\n",
      "You are setting values through chained assignment. Currently this works in certain cases, but when using Copy-on-Write (which will become the default behaviour in pandas 3.0) this will never work to update the original DataFrame or Series, because the intermediate object on which we are setting values will behave as a copy.\n",
      "A typical example is when you are setting values in a column of a DataFrame, like:\n",
      "\n",
      "df[\"col\"][row_indexer] = value\n",
      "\n",
      "Use `df.loc[row_indexer, \"col\"] = values` instead, to perform the assignment in a single step and ensure this keeps updating the original `df`.\n",
      "\n",
      "See the caveats in the documentation: https://pandas.pydata.org/pandas-docs/stable/user_guide/indexing.html#returning-a-view-versus-a-copy\n",
      "\n",
      "  df['Tourist_Count'].loc[2021] = np.nan\n"
     ]
    }
   ],
   "source": [
    "df['Tourist_Count'].loc[2020] = np.nan\n",
    "df['Tourist_Count'].loc[2021] = np.nan\n",
    "df['Tourist_Count'] = df['Tourist_Count'].interpolate()"
   ]
  },
  {
   "cell_type": "markdown",
   "id": "pandemic-impact",
   "metadata": {},
   "source": [
    "### 创建疫情影响因子"
   ]
  },
  {
   "cell_type": "code",
   "execution_count": 4,
   "id": "create-pandemic-impact",
   "metadata": {},
   "outputs": [],
   "source": [
    "df['Pandemic_Impact'] = [0, 0, 0, 0, 0, 0, 1, 1, 0.3, 0]"
   ]
  },
  {
   "cell_type": "markdown",
   "id": "modeling",
   "metadata": {},
   "source": [
    "### 使用SARIMAX模型进行建模"
   ]
  },
  {
   "cell_type": "code",
   "execution_count": 5,
   "id": "sarimax-model",
   "metadata": {},
   "outputs": [
    {
     "name": "stderr",
     "output_type": "stream",
     "text": [
      "c:\\Users\\19912\\.conda\\envs\\data\\Lib\\site-packages\\statsmodels\\tsa\\base\\tsa_model.py:473: ValueWarning: An unsupported index was provided. As a result, forecasts cannot be generated. To use the model for forecasting, use one of the supported classes of index.\n",
      "  self._init_dates(dates, freq)\n",
      "c:\\Users\\19912\\.conda\\envs\\data\\Lib\\site-packages\\statsmodels\\tsa\\base\\tsa_model.py:473: ValueWarning: An unsupported index was provided. As a result, forecasts cannot be generated. To use the model for forecasting, use one of the supported classes of index.\n",
      "  self._init_dates(dates, freq)\n",
      "c:\\Users\\19912\\.conda\\envs\\data\\Lib\\site-packages\\statsmodels\\tsa\\statespace\\sarimax.py:966: UserWarning: Non-stationary starting autoregressive parameters found. Using zeros as starting parameters.\n",
      "  warn('Non-stationary starting autoregressive parameters'\n",
      "c:\\Users\\19912\\.conda\\envs\\data\\Lib\\site-packages\\statsmodels\\tsa\\statespace\\sarimax.py:978: UserWarning: Non-invertible starting MA parameters found. Using zeros as starting parameters.\n",
      "  warn('Non-invertible starting MA parameters found.'\n"
     ]
    },
    {
     "name": "stdout",
     "output_type": "stream",
     "text": [
      "                               SARIMAX Results                                \n",
      "==============================================================================\n",
      "Dep. Variable:          Tourist_Count   No. Observations:                   10\n",
      "Model:               SARIMAX(2, 1, 1)   Log Likelihood                -121.173\n",
      "Date:                Sat, 25 Jan 2025   AIC                            252.346\n",
      "Time:                        15:48:37   BIC                            253.332\n",
      "Sample:                             0   HQIC                           250.218\n",
      "                                 - 10                                         \n",
      "Covariance Type:                  opg                                         \n",
      "===================================================================================\n",
      "                      coef    std err          z      P>|z|      [0.025      0.975]\n",
      "-----------------------------------------------------------------------------------\n",
      "Pandemic_Impact -1.043e+05   4.52e+05     -0.231      0.817    -9.9e+05    7.82e+05\n",
      "ar.L1               0.8920      2.166      0.412      0.680      -3.353       5.136\n",
      "ar.L2               0.0956      1.443      0.066      0.947      -2.733       2.924\n",
      "ma.L1              -0.9536      1.766     -0.540      0.589      -4.414       2.507\n",
      "sigma2           4.346e+10      2.004   2.17e+10      0.000    4.35e+10    4.35e+10\n",
      "===================================================================================\n",
      "Ljung-Box (L1) (Q):                   0.64   Jarque-Bera (JB):                 3.20\n",
      "Prob(Q):                              0.42   Prob(JB):                         0.20\n",
      "Heteroskedasticity (H):              60.40   Skew:                             1.28\n",
      "Prob(H) (two-sided):                  0.01   Kurtosis:                         4.41\n",
      "===================================================================================\n",
      "\n",
      "Warnings:\n",
      "[1] Covariance matrix calculated using the outer product of gradients (complex-step).\n",
      "[2] Covariance matrix is singular or near-singular, with condition number 2.3e+26. Standard errors may be unstable.\n"
     ]
    }
   ],
   "source": [
    "model = SARIMAX(df['Tourist_Count'], \n",
    "                exog=df['Pandemic_Impact'],  # 引入外生变量\n",
    "                order=(2, 1, 1))  # 假设p=2, d=1, q=1\n",
    "\n",
    "# 拟合模型\n",
    "fitted_model = model.fit()\n",
    "\n",
    "# 打印模型摘要\n",
    "print(fitted_model.summary())"
   ]
  },
  {
   "cell_type": "markdown",
   "id": "model-parameters",
   "metadata": {},
   "source": [
    "### 输出模型参数"
   ]
  },
  {
   "cell_type": "code",
   "execution_count": 6,
   "id": "model-parameters-output",
   "metadata": {},
   "outputs": [
    {
     "name": "stdout",
     "output_type": "stream",
     "text": [
      "Model Parameters:\n",
      "Pandemic_Impact   -1.043038e+05\n",
      "ar.L1              8.919546e-01\n",
      "ar.L2              9.559374e-02\n",
      "ma.L1             -9.536305e-01\n",
      "sigma2             4.346279e+10\n",
      "dtype: float64\n"
     ]
    }
   ],
   "source": [
    "params = fitted_model.params\n",
    "print(\"Model Parameters:\")\n",
    "print(params)"
   ]
  },
  {
   "cell_type": "markdown",
   "id": "forecasting",
   "metadata": {},
   "source": [
    "### 进行预测"
   ]
  },
  {
   "cell_type": "code",
   "execution_count": 7,
   "id": "forecast",
   "metadata": {},
   "outputs": [
    {
     "name": "stderr",
     "output_type": "stream",
     "text": [
      "c:\\Users\\19912\\.conda\\envs\\data\\Lib\\site-packages\\statsmodels\\tsa\\base\\tsa_model.py:837: ValueWarning: No supported index is available. Prediction results will be given with an integer index beginning at `start`.\n",
      "  return get_prediction_index(\n",
      "c:\\Users\\19912\\.conda\\envs\\data\\Lib\\site-packages\\statsmodels\\tsa\\base\\tsa_model.py:837: FutureWarning: No supported index is available. In the next version, calling this method in a model without a supported index will result in an exception.\n",
      "  return get_prediction_index(\n"
     ]
    }
   ],
   "source": [
    "# 假设未来几年疫情影响因子为0，表示无疫情\n",
    "forecast_years = [2024, 2025, 2026, 2027, 2028]\n",
    "forecast_exog = np.array([0, 0, 0, 0, 0])  # 预测期的疫情影响因子\n",
    "forecast = fitted_model.forecast(steps=5, exog=forecast_exog)\n",
    "\n",
    "# 创建预测数据的DataFrame\n",
    "forecast_df = pd.DataFrame({'Year': forecast_years, 'Tourist_Count': forecast})\n",
    "forecast_df.set_index('Year', inplace=True)"
   ]
  },
  {
   "cell_type": "markdown",
   "id": "combine-data",
   "metadata": {},
   "source": [
    "### 将已知数据和预测数据汇总到一张表格中"
   ]
  },
  {
   "cell_type": "code",
   "execution_count": 8,
   "id": "combine-data-code",
   "metadata": {},
   "outputs": [
    {
     "name": "stdout",
     "output_type": "stream",
     "text": [
      "      Tourist_Count\n",
      "Year               \n",
      "2014   9.610000e+05\n",
      "2015   9.830000e+05\n",
      "2016   1.015000e+06\n",
      "2017   1.072000e+06\n",
      "2018   1.151000e+06\n",
      "2019   1.306000e+06\n",
      "2020   1.259667e+06\n",
      "2021   1.213333e+06\n",
      "2022   1.167000e+06\n",
      "2023   1.670000e+06\n",
      "2024   1.701018e+06\n",
      "2025   1.773778e+06\n",
      "2026   1.841641e+06\n",
      "2027   1.909127e+06\n",
      "2028   1.975809e+06\n"
     ]
    }
   ],
   "source": [
    "combined_df = pd.concat([df[['Tourist_Count']], forecast_df], axis=0)\n",
    "\n",
    "# 打印汇总表格\n",
    "print(combined_df)"
   ]
  },
  {
   "cell_type": "markdown",
   "id": "visualization",
   "metadata": {},
   "source": [
    "### 可视化预测结果"
   ]
  },
  {
   "cell_type": "code",
   "execution_count": 9,
   "id": "visualize-forecast",
   "metadata": {},
   "outputs": [
    {
     "data": {
      "image/png": "[encoded data removed]",
      "text/plain": [
       "<Figure size 640x480 with 1 Axes>"
      ]
     },
     "metadata": {},
     "output_type": "display_data"
    }
   ],
   "source": [
    "plt.plot(df.index, df['Tourist_Count'], label='Historical Data')\n",
    "plt.plot(forecast_years, forecast, label='Forecast with Pandemic Impact', color='red')\n",
    "plt.xlabel('Year')\n",
    "plt.ylabel('Tourist Count')\n",
    "plt.title('Tourist Count Forecast with Pandemic Impact (2024-2028)')\n",
    "plt.legend()\n",
    "plt.show()"
   ]
  },
  {
   "cell_type": "code",
   "execution_count": null,
   "id": "311b7fdb",
   "metadata": {},
   "outputs": [],
   "source": []
  }
 ],
 "metadata": {
  "kernelspec": {
   "display_name": "data",
   "language": "python",
   "name": "python3"
  },
  "language_info": {
   "codemirror_mode": {
    "name": "ipython",
    "version": 3
   },
   "file_extension": ".py",
   "mimetype": "text/x-python",
   "name": "python",
   "nbconvert_exporter": "python",
   "pygments_lexer": "ipython3",
   "version": "3.12.7"
  }
 },
 "nbformat": 4,
 "nbformat_minor": 5
}
